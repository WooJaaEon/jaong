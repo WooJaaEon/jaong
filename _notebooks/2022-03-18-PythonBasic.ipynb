{
 "cells": [
  {
   "cell_type": "markdown",
   "metadata": {},
   "source": [
    "# Python Language Basics, IPython, and Jupyyer Notebooks\n",
    "### Python Language Basics\n",
    "\n",
    "__Language Semantics__  \n",
    "Indentation, not braces [들여쓰기]"
   ]
  },
  {
   "cell_type": "raw",
   "metadata": {},
   "source": [
    "### When used in R\n",
    "for(x in array){\n",
    "    if(x < pivot){\n",
    "        less.append(x)\n",
    "    }else{\n",
    "        greater.append(x)\n",
    "    }  \n",
    "}  "
   ]
  },
  {
   "cell_type": "raw",
   "metadata": {},
   "source": [
    "### When used in Python\n",
    "for x in array:\n",
    "    if x < pivot:\n",
    "        less.append(x)\n",
    "    else:\n",
    "        greater.append(x)"
   ]
  },
  {
   "cell_type": "markdown",
   "metadata": {},
   "source": [
    "R에서는 ( )를 사용하지만, Python에서는 괄호가 아닌 들여쓰기를 사용한다."
   ]
  },
  {
   "cell_type": "markdown",
   "metadata": {},
   "source": [
    "__Dynamic references, strong type__  \n",
    "\n",
    "Python의 데이터 타입(자료형, class)에는  \n",
    "- int : 정수형\n",
    "- float : 실수형\n",
    "- str : 문자형 (주로 \" \" 또는 ' '을 사용)  \n",
    "\n",
    "있다. 데이터 타입을 확인하기 위해서는 type() 함수를 사용해서 알 수 있다.\n",
    "\n",
    "※ 문자열(str)과 숫자형(int or float)는 계산 할 수 없다."
   ]
  },
  {
   "cell_type": "code",
   "execution_count": 1,
   "metadata": {},
   "outputs": [
    {
     "name": "stdout",
     "output_type": "stream",
     "text": [
      "<class 'int'> <class 'str'> <class 'float'>\n"
     ]
    }
   ],
   "source": [
    "a = 5\n",
    "b = 'foo'\n",
    "c = 4.5\n",
    "\n",
    "print(type(a),type(b),type(c))"
   ]
  },
  {
   "cell_type": "markdown",
   "metadata": {},
   "source": [
    "__Attributes and methods__\n",
    "\n",
    "Attributes(속성): other Python objects stored \"inside\" the object [ 객체 \"내부\"에 저장된 다른 Python 객체 ]\n",
    "\n",
    "methods(방법): functions associated with an object that can have access to the object's internal data [ 객체의 내부 데이터에 접근할 수 있는 객체와 관련된 함수 ]"
   ]
  },
  {
   "cell_type": "code",
   "execution_count": 3,
   "metadata": {},
   "outputs": [
    {
     "data": {
      "text/plain": [
       "'FOO'"
      ]
     },
     "execution_count": 3,
     "metadata": {},
     "output_type": "execute_result"
    }
   ],
   "source": [
    "# Attributes\n",
    "a ='foo'\n",
    "\n",
    "# Methods\n",
    "a.upper()"
   ]
  },
  {
   "cell_type": "markdown",
   "metadata": {},
   "source": [
    "__Import__\n",
    "\n",
    "파이썬 모듈 만들기(in Jupyter)\n",
    "\n",
    "1. Jupyter에서 textFile을 생성\n",
    "2. some_module.py 처럼 같은 디렉토리의 다른 파일에서 정의된 변수와 함수를 작성 후 저장"
   ]
  },
  {
   "cell_type": "raw",
   "metadata": {},
   "source": [
    "# some_module.py\n",
    "PI = 3.14159\n",
    "def f(x):\n",
    "    return x + 2\n",
    "def g(a,b):\n",
    "    return a + b"
   ]
  },
  {
   "cell_type": "markdown",
   "metadata": {},
   "source": [
    "3. 새로운 .ipynb 파일을 만들어, import로 some_module을 불러온 후, 실행"
   ]
  },
  {
   "cell_type": "code",
   "execution_count": 4,
   "metadata": {},
   "outputs": [
    {
     "data": {
      "text/plain": [
       "3.14"
      ]
     },
     "execution_count": 4,
     "metadata": {},
     "output_type": "execute_result"
    }
   ],
   "source": [
    "import some_module\n",
    "result = some_module.f(5)\n",
    "\n",
    "pi = some_module.PI\n",
    "pi"
   ]
  },
  {
   "cell_type": "code",
   "execution_count": 6,
   "metadata": {},
   "outputs": [
    {
     "name": "stdout",
     "output_type": "stream",
     "text": [
      "5.140000000000001 9.14\n"
     ]
    }
   ],
   "source": [
    "### as로 모듈 이름을 줄일수 있다.\n",
    "import some_module as sm\n",
    "\n",
    "### from으로 바로 불러와서 사용할 수 있다.\n",
    "from some_module import PI as pi, g as gf\n",
    "\n",
    "r1 = sm.f(pi)\n",
    "r2 = gf(6, pi)\n",
    "\n",
    "print(r1, r2)"
   ]
  },
  {
   "cell_type": "markdown",
   "metadata": {},
   "source": [
    "__Binary operators and comparisons__"
   ]
  },
  {
   "cell_type": "code",
   "execution_count": 9,
   "metadata": {},
   "outputs": [
    {
     "name": "stdout",
     "output_type": "stream",
     "text": [
      "True\n",
      "True\n",
      "True\n"
     ]
    }
   ],
   "source": [
    "# is / is not\n",
    "a = [1,2,3]\n",
    "b = a\n",
    "c = list(a)\n",
    "\n",
    "print(a is b)\n",
    "print(a == b)\n",
    "print(a is not c)"
   ]
  },
  {
   "cell_type": "markdown",
   "metadata": {},
   "source": [
    "- == , != 와 is, is not 의 차이점\n",
    "  - == 과 != 는 값 자체를 비교\n",
    "  - is 와 is not은 객체를 비교"
   ]
  },
  {
   "cell_type": "markdown",
   "metadata": {},
   "source": [
    "__Mutable and immutable objects__\n",
    "\n",
    "list, dict, Numpy array 및 대부분의 사용자 정의 유형(classes)과 같은 Python의 대부분의 객체는 변경 가능하다.\n",
    "\n",
    "Tuple은 변경 불가능하지만, 작업속도는 List보다 더 빠르게 작업할 수 있다."
   ]
  },
  {
   "cell_type": "code",
   "execution_count": 12,
   "metadata": {},
   "outputs": [
    {
     "data": {
      "text/plain": [
       "['foo', 2, (3, 4)]"
      ]
     },
     "execution_count": 12,
     "metadata": {},
     "output_type": "execute_result"
    }
   ],
   "source": [
    "a_list = ['foo',2,[4,5]]\n",
    "a_list[2] = (3,4)\n",
    "a_list"
   ]
  },
  {
   "cell_type": "code",
   "execution_count": 11,
   "metadata": {},
   "outputs": [
    {
     "ename": "TypeError",
     "evalue": "'tuple' object does not support item assignment",
     "output_type": "error",
     "traceback": [
      "\u001b[1;31m---------------------------------------------------------------------------\u001b[0m",
      "\u001b[1;31mTypeError\u001b[0m                                 Traceback (most recent call last)",
      "\u001b[1;32m<ipython-input-11-1990528cab52>\u001b[0m in \u001b[0;36m<module>\u001b[1;34m\u001b[0m\n\u001b[0;32m      1\u001b[0m \u001b[0ma_tuple\u001b[0m \u001b[1;33m=\u001b[0m \u001b[1;33m(\u001b[0m\u001b[1;36m3\u001b[0m\u001b[1;33m,\u001b[0m\u001b[1;36m5\u001b[0m\u001b[1;33m,\u001b[0m\u001b[1;33m(\u001b[0m\u001b[1;36m4\u001b[0m\u001b[1;33m,\u001b[0m\u001b[1;36m5\u001b[0m\u001b[1;33m)\u001b[0m\u001b[1;33m)\u001b[0m\u001b[1;33m\u001b[0m\u001b[1;33m\u001b[0m\u001b[0m\n\u001b[1;32m----> 2\u001b[1;33m \u001b[0ma_tuple\u001b[0m\u001b[1;33m[\u001b[0m\u001b[1;36m1\u001b[0m\u001b[1;33m]\u001b[0m \u001b[1;33m=\u001b[0m \u001b[1;34m'four'\u001b[0m\u001b[1;33m\u001b[0m\u001b[1;33m\u001b[0m\u001b[0m\n\u001b[0m",
      "\u001b[1;31mTypeError\u001b[0m: 'tuple' object does not support item assignment"
     ]
    }
   ],
   "source": [
    "a_tuple = (3,5,(4,5))\n",
    "a_tuple[1] = 'four'"
   ]
  },
  {
   "cell_type": "markdown",
   "metadata": {},
   "source": [
    "__Scalar Type__\n",
    "\n",
    "Numeric type  \n",
    ": 숫자에 대한 기본 Python 유형은 int 및 float가 있다.\n",
    "\n",
    "- int는 임의의 큰 숫자를 저장할 수 있다.\n",
    "- 소수점 숫자는 float로 표시할 수 있다. "
   ]
  },
  {
   "cell_type": "code",
   "execution_count": 15,
   "metadata": {},
   "outputs": [
    {
     "data": {
      "text/plain": [
       "int"
      ]
     },
     "execution_count": 15,
     "metadata": {},
     "output_type": "execute_result"
    }
   ],
   "source": [
    "ival = 17239871\n",
    "type(ival **6)"
   ]
  },
  {
   "cell_type": "code",
   "execution_count": 17,
   "metadata": {},
   "outputs": [
    {
     "data": {
      "text/plain": [
       "float"
      ]
     },
     "execution_count": 17,
     "metadata": {},
     "output_type": "execute_result"
    }
   ],
   "source": [
    "fval = 7.234\n",
    "type(fval**6)"
   ]
  },
  {
   "cell_type": "markdown",
   "metadata": {},
   "source": [
    "Strings"
   ]
  },
  {
   "cell_type": "markdown",
   "metadata": {},
   "source": [
    " Python 문자열을 변경할 수 없고, 인덱스를 뽑아서 수정할 수 없다.  \n",
    "(Python strings are immutable; you cannot modify a sting)"
   ]
  },
  {
   "cell_type": "code",
   "execution_count": 19,
   "metadata": {},
   "outputs": [
    {
     "ename": "TypeError",
     "evalue": "'str' object does not support item assignment",
     "output_type": "error",
     "traceback": [
      "\u001b[1;31m---------------------------------------------------------------------------\u001b[0m",
      "\u001b[1;31mTypeError\u001b[0m                                 Traceback (most recent call last)",
      "\u001b[1;32m<ipython-input-19-b9d06eea4235>\u001b[0m in \u001b[0;36m<module>\u001b[1;34m\u001b[0m\n\u001b[0;32m      1\u001b[0m \u001b[0ma\u001b[0m \u001b[1;33m=\u001b[0m \u001b[1;34m'This is a string'\u001b[0m\u001b[1;33m\u001b[0m\u001b[1;33m\u001b[0m\u001b[0m\n\u001b[1;32m----> 2\u001b[1;33m \u001b[0ma\u001b[0m\u001b[1;33m[\u001b[0m\u001b[1;36m10\u001b[0m\u001b[1;33m]\u001b[0m \u001b[1;33m=\u001b[0m \u001b[1;34m'f'\u001b[0m\u001b[1;33m\u001b[0m\u001b[1;33m\u001b[0m\u001b[0m\n\u001b[0m",
      "\u001b[1;31mTypeError\u001b[0m: 'str' object does not support item assignment"
     ]
    }
   ],
   "source": [
    "a = 'This is a string'\n",
    "a[10] = 'f'"
   ]
  },
  {
   "cell_type": "markdown",
   "metadata": {},
   "source": [
    "하지만, replace()를 써서 바꿀 수 있다.\n",
    "\n",
    "* replace()함수\n",
    "\n",
    ": 텍스트 문자열의 일부를 지정된 문자 수만큼 다른 텍스트 문자열로 바꾼다.  \n",
    ": 지정한 바이트 수에 따라 텍스트 문자열의 일부를 다른 텍스트 문자열로 바꾼다."
   ]
  },
  {
   "cell_type": "code",
   "execution_count": 14,
   "metadata": {},
   "outputs": [
    {
     "data": {
      "text/plain": [
       "'This is a longer string'"
      ]
     },
     "execution_count": 14,
     "metadata": {},
     "output_type": "execute_result"
    }
   ],
   "source": [
    "a = 'This is a string'\n",
    "b = a.replace('string','longer string')\n",
    "b"
   ]
  },
  {
   "cell_type": "code",
   "execution_count": 15,
   "metadata": {},
   "outputs": [
    {
     "data": {
      "text/plain": [
       "'This is a stringThis is a longer string'"
      ]
     },
     "execution_count": 15,
     "metadata": {},
     "output_type": "execute_result"
    }
   ],
   "source": [
    "# 문자열끼리 더할 수도 있다.\n",
    "a + b"
   ]
  },
  {
   "cell_type": "markdown",
   "metadata": {},
   "source": [
    "문자열 자료형( str ) 에는 다양한 이스케이프 코드들이 있다.\n",
    "\n",
    "_주로 사용되는 코드들_\n",
    "- \\ n\t: 문자열 안에서 줄을 바꿀 때 사용\n",
    "- \\ t\t: 문자열 사이에 탭 간격을 줄 때 사용\n",
    "- \\ \\\t: 문자 \\를 그대로 표현할 때 사용\n",
    "- \\ '\t: 작은따옴표(')를 그대로 표현할 때 사용\n",
    "- \\ \"\t: 큰따옴표(\")를 그대로 표현할 때 사용\n"
   ]
  },
  {
   "cell_type": "code",
   "execution_count": 2,
   "metadata": {},
   "outputs": [
    {
     "name": "stdout",
     "output_type": "stream",
     "text": [
      "one way of \n",
      " writing a \tstring\n"
     ]
    }
   ],
   "source": [
    "# \\n : 줄바꿈 / \\t : Tap\n",
    "a = 'one way of \\n writing a \\tstring'\n",
    "print(a)"
   ]
  },
  {
   "cell_type": "markdown",
   "metadata": {},
   "source": [
    "Data Type을 변환할 때 쓰는 함수\n",
    "- str() : 문자열로 변환\n",
    "- int() : 정수형으로 변환\n",
    "- float() : 실수형으로 변환\n",
    "- bool() : 결과값이 True 또는 False값으로 출력됨\n",
    "- tuple() : 튜플로 변환\n",
    "- list() : 리스트로 변환 "
   ]
  },
  {
   "cell_type": "code",
   "execution_count": 10,
   "metadata": {},
   "outputs": [
    {
     "name": "stdout",
     "output_type": "stream",
     "text": [
      "5.6 <class 'str'> \n",
      " 5 <class 'int'> \n",
      " 5.6 <class 'float'>\n"
     ]
    }
   ],
   "source": [
    "a = 5.6\n",
    "s = str(a)\n",
    "i = int(a)\n",
    "print(s,type(s),\"\\n\",\n",
    "     i,type(i),\"\\n\",\n",
    "     a, type(a))"
   ]
  },
  {
   "cell_type": "markdown",
   "metadata": {},
   "source": [
    "※ sequence 자료형 (3가지의 자료형을 가지고 있다.)  \n",
    "\n",
    ": 모든 시퀀스는 순서가 유지되고, 정수로 인덱싱하며, 길이가 있다.  \n",
    ": 문자열은 Unicord 문자의 시퀀스이므로 list 및 tuple 과 같은 다른 시퀀스처럼 취급될 수 있습니다.\n",
    "\n",
    "- 문자열: 'Hello'. 문자열(string)은 문자(character)들의 시퀀스다.\n",
    "- 리스트: [1, 4, 5]\n",
    "- 튜플: ('GOOG', 100, 490.1)"
   ]
  },
  {
   "cell_type": "code",
   "execution_count": 11,
   "metadata": {},
   "outputs": [
    {
     "data": {
      "text/plain": [
       "['p', 'y', 't', 'h', 'o', 'n']"
      ]
     },
     "execution_count": 11,
     "metadata": {},
     "output_type": "execute_result"
    }
   ],
   "source": [
    "s = 'python'\n",
    "list(s)"
   ]
  },
  {
   "cell_type": "markdown",
   "metadata": {},
   "source": [
    "※ 슬라이싱(Slicing)\n",
    "\n",
    ": 시퀀스의 일부(subsequence)를 취하는 것을 슬라이싱이라 한다."
   ]
  },
  {
   "cell_type": "code",
   "execution_count": 16,
   "metadata": {
    "scrolled": true
   },
   "outputs": [
    {
     "data": {
      "text/plain": [
       "'pyt'"
      ]
     },
     "execution_count": 16,
     "metadata": {},
     "output_type": "execute_result"
    }
   ],
   "source": [
    "s = 'python'\n",
    "s[:3]"
   ]
  },
  {
   "cell_type": "markdown",
   "metadata": {},
   "source": [
    "※ String objects have a format methods\n",
    "\n",
    ": 문자열 객체에는 인수를 문자열로 대체하여 새 문자열을 생성하는 데 사용할 수 있는 형식 메서드가 있다."
   ]
  },
  {
   "cell_type": "code",
   "execution_count": 20,
   "metadata": {},
   "outputs": [
    {
     "data": {
      "text/plain": [
       "'4.56 Argentine Pesos are worth US $1'"
      ]
     },
     "execution_count": 20,
     "metadata": {},
     "output_type": "execute_result"
    }
   ],
   "source": [
    "template = '{0:.2f} {1:s} are worth US ${2:d}'\n",
    "template.format(4.5560,'Argentine Pesos',1)"
   ]
  },
  {
   "cell_type": "markdown",
   "metadata": {},
   "source": [
    "- Cord Explain  \n",
    "\n",
    "{0:.2f}: 소수점 둘째자리까지\n",
    "\n",
    "{1:s}: 문자열\n",
    "\n",
    "{2:d}: 정수형"
   ]
  },
  {
   "cell_type": "markdown",
   "metadata": {},
   "source": [
    "__Booleans__\n",
    "\n",
    "Python의 두 Bool 값은 True 및 False로 작성된다. 비교 및 기타 조건 표현식은 True 또는 False로 평가된다."
   ]
  },
  {
   "cell_type": "code",
   "execution_count": 21,
   "metadata": {},
   "outputs": [
    {
     "data": {
      "text/plain": [
       "False"
      ]
     },
     "execution_count": 21,
     "metadata": {},
     "output_type": "execute_result"
    }
   ],
   "source": [
    "True and False # True or False"
   ]
  },
  {
   "cell_type": "markdown",
   "metadata": {},
   "source": [
    "__None__\n",
    "\n",
    ": None은 Python null 값 유형이다. 함수가 명시적으로 값을 반환하지 않으면 암시적으로 None을 반환한다."
   ]
  },
  {
   "cell_type": "code",
   "execution_count": 22,
   "metadata": {},
   "outputs": [
    {
     "data": {
      "text/plain": [
       "True"
      ]
     },
     "execution_count": 22,
     "metadata": {},
     "output_type": "execute_result"
    }
   ],
   "source": [
    "a = None\n",
    "a is None"
   ]
  },
  {
   "cell_type": "markdown",
   "metadata": {},
   "source": [
    "__Date and times__\n",
    "\n",
    "1. date to string, string to date\n",
    "\n",
    "strftime(): datetime type을 string type으로 변경  \n",
    "strptime() : string type을 datetime type으로 변경  \n",
    "\n",
    "2. Change date\n",
    "\n",
    "timedelta() : days, seconds, microseconds 속성이 있는데, 날짜단위, 시간단위, 밀리세컨단위를 일, 초 밀리세컨 값으로 나타낸다.\n",
    "\n",
    "3. dateutil Package\n",
    "\n",
    "parse() : 형식문자열을 자동으로 찾아서 객체로 만들어줌.  \n",
    "(단, 포맷을 맘대로 바꾸면 찾을 수 없으니 strptime 메서드를 쓰는게 좋다.)\n"
   ]
  },
  {
   "cell_type": "code",
   "execution_count": 27,
   "metadata": {},
   "outputs": [
    {
     "data": {
      "text/plain": [
       "datetime.datetime(2011, 10, 29, 20, 30, 21)"
      ]
     },
     "execution_count": 27,
     "metadata": {},
     "output_type": "execute_result"
    }
   ],
   "source": [
    "from datetime import datetime, date, time\n",
    "dt = datetime(2011,10,29,20,30,21)\n",
    "dt"
   ]
  },
  {
   "cell_type": "code",
   "execution_count": 28,
   "metadata": {
    "scrolled": false
   },
   "outputs": [
    {
     "data": {
      "text/plain": [
       "'10/29/2011 20:30'"
      ]
     },
     "execution_count": 28,
     "metadata": {},
     "output_type": "execute_result"
    }
   ],
   "source": [
    "# %m: 월 / %d: 일 / %Y: 년 / %H: 시간 / %M: 분\n",
    "dt.strftime('%m/%d/%Y %H:%M')"
   ]
  },
  {
   "cell_type": "code",
   "execution_count": 30,
   "metadata": {},
   "outputs": [
    {
     "data": {
      "text/plain": [
       "datetime.datetime(2022, 3, 17, 0, 0)"
      ]
     },
     "execution_count": 30,
     "metadata": {},
     "output_type": "execute_result"
    }
   ],
   "source": [
    "datetime.strptime('20220317','%Y%m%d')"
   ]
  },
  {
   "cell_type": "code",
   "execution_count": 31,
   "metadata": {},
   "outputs": [
    {
     "data": {
      "text/plain": [
       "datetime.timedelta(days=-3876, seconds=7179)"
      ]
     },
     "execution_count": 31,
     "metadata": {},
     "output_type": "execute_result"
    }
   ],
   "source": [
    "dt2 = datetime(2001,3,19,22,30)\n",
    "delta = dt2 - dt\n",
    "delta"
   ]
  },
  {
   "cell_type": "code",
   "execution_count": 32,
   "metadata": {},
   "outputs": [
    {
     "data": {
      "text/plain": [
       "datetime.timedelta"
      ]
     },
     "execution_count": 32,
     "metadata": {},
     "output_type": "execute_result"
    }
   ],
   "source": [
    "type(delta)"
   ]
  },
  {
   "cell_type": "markdown",
   "metadata": {},
   "source": [
    "__Control Flow__\n",
    "\n",
    "#### if, elif, and else\n",
    "\n",
    ": if 문은 선택적으로 하나 이상의 elif 블록과 모든 조건이 False인 경우 else 블록을 실행한다."
   ]
  },
  {
   "cell_type": "code",
   "execution_count": 33,
   "metadata": {},
   "outputs": [
    {
     "name": "stdout",
     "output_type": "stream",
     "text": [
      "It is negative\n"
     ]
    }
   ],
   "source": [
    "x = -5\n",
    "\n",
    "if x < 0:\n",
    "    print('It is negative')\n",
    "elif x == 0:\n",
    "    print('Equal to zero')\n",
    "elif 0 < x < 5:\n",
    "    print('Positive but smaller than 5')\n",
    "else:\n",
    "    print('Positive and larger than or equal to 5')"
   ]
  },
  {
   "cell_type": "markdown",
   "metadata": {},
   "source": [
    "#### for loops\n",
    "\n",
    ": for문은 컬렉션(collection) 또는 반복자(iterater)를 반복하기 위한 것이다."
   ]
  },
  {
   "cell_type": "code",
   "execution_count": 34,
   "metadata": {},
   "outputs": [
    {
     "data": {
      "text/plain": [
       "12"
      ]
     },
     "execution_count": 34,
     "metadata": {},
     "output_type": "execute_result"
    }
   ],
   "source": [
    "# value가 None이면 continue(건너뛰기) -> total += value를 실행함\n",
    "sequence = [1,2,None,4,None,5]\n",
    "total = 0\n",
    "for value in sequence:\n",
    "    if value is None:\n",
    "        continue\n",
    "    total += value\n",
    "\n",
    "total"
   ]
  },
  {
   "cell_type": "code",
   "execution_count": 35,
   "metadata": {
    "scrolled": true
   },
   "outputs": [
    {
     "data": {
      "text/plain": [
       "13"
      ]
     },
     "execution_count": 35,
     "metadata": {},
     "output_type": "execute_result"
    }
   ],
   "source": [
    "# value가 5가 되면 break(멈춤) -> 코드 실행 종료\n",
    "sequence = [1,2,0,4,6,5,2,1]\n",
    "total_until_5 = 0\n",
    "for value in sequence:\n",
    "    if value ==5:\n",
    "        break\n",
    "    total_until_5 += value\n",
    "\n",
    "total_until_5"
   ]
  },
  {
   "cell_type": "markdown",
   "metadata": {},
   "source": [
    "※ 중첩반복문(Nested Loop)\n",
    "\n",
    ": 바깥 쪽 for문을 기준으로 안 쪽에 위치한 for문이 먼저 반복된다.\n",
    "\n",
    "※ 복합 대입 연산자(Assignment Operators)\n",
    "\n",
    ": 연산과 할당을 합쳐놓은 것이다.(식을 간결하게 사용 가능)\n",
    "\n",
    "a += b\t-> a = a + b"
   ]
  },
  {
   "cell_type": "code",
   "execution_count": 36,
   "metadata": {},
   "outputs": [
    {
     "name": "stdout",
     "output_type": "stream",
     "text": [
      "171700\n"
     ]
    }
   ],
   "source": [
    "# 1+(1+2) + (1+2+3)+...+(1+2+...+100)의 결과를 프로그램\n",
    "i=0\n",
    "sum=0\n",
    "\n",
    "for i in range(1, 101):\n",
    "    for j in range(1,i+1):\n",
    "        # sum += j\n",
    "        sum=sum+j\n",
    "        \n",
    "print(sum)"
   ]
  },
  {
   "cell_type": "markdown",
   "metadata": {},
   "source": [
    "__while loops__\n",
    "\n",
    ": 반복해서 문장을 수행해야 할 경우 while문을 사용한다."
   ]
  },
  {
   "cell_type": "code",
   "execution_count": 37,
   "metadata": {},
   "outputs": [
    {
     "data": {
      "text/plain": [
       "504"
      ]
     },
     "execution_count": 37,
     "metadata": {},
     "output_type": "execute_result"
    }
   ],
   "source": [
    "x = 256\n",
    "total = 0\n",
    "while x > 0:\n",
    "    if total > 500:\n",
    "        break\n",
    "    total += x\n",
    "    x = x// 2\n",
    "\n",
    "total"
   ]
  },
  {
   "cell_type": "markdown",
   "metadata": {},
   "source": [
    "__Pass__\n",
    "\n",
    ": pass는 Python에서 \"no-op\"(작업 없음) 문이다. (어떠한 행동을 하지 않는다.)"
   ]
  },
  {
   "cell_type": "code",
   "execution_count": 38,
   "metadata": {},
   "outputs": [
    {
     "name": "stdout",
     "output_type": "stream",
     "text": [
      "negative\n"
     ]
    }
   ],
   "source": [
    "x = -1\n",
    "\n",
    "if x < 0:\n",
    "    print('negative')\n",
    "elif x == 0:\n",
    "    pass # x가 0이면 아무것도 하지 않음.\n",
    "else:\n",
    "    print('positive!')"
   ]
  },
  {
   "cell_type": "markdown",
   "metadata": {},
   "source": [
    "__Range__\n",
    "\n",
    ": 범위 함수는 일정한 간격의 정수 시퀀스를 생성하는 반복자를 반환한다."
   ]
  },
  {
   "cell_type": "code",
   "execution_count": 39,
   "metadata": {},
   "outputs": [
    {
     "data": {
      "text/plain": [
       "range(0, 10)"
      ]
     },
     "execution_count": 39,
     "metadata": {},
     "output_type": "execute_result"
    }
   ],
   "source": [
    "range(10)"
   ]
  },
  {
   "cell_type": "code",
   "execution_count": 40,
   "metadata": {},
   "outputs": [
    {
     "data": {
      "text/plain": [
       "[0, 1, 2, 3, 4, 5, 6, 7, 8, 9]"
      ]
     },
     "execution_count": 40,
     "metadata": {},
     "output_type": "execute_result"
    }
   ],
   "source": [
    "list(range(10))"
   ]
  },
  {
   "cell_type": "markdown",
   "metadata": {},
   "source": [
    "- 시작 끝과 단계가 모두 주어질 수 있다."
   ]
  },
  {
   "cell_type": "code",
   "execution_count": 41,
   "metadata": {},
   "outputs": [
    {
     "data": {
      "text/plain": [
       "[0, 2, 4, 6, 8, 10, 12, 14, 16, 18]"
      ]
     },
     "execution_count": 41,
     "metadata": {},
     "output_type": "execute_result"
    }
   ],
   "source": [
    "list(range(0,20,2))"
   ]
  },
  {
   "cell_type": "markdown",
   "metadata": {},
   "source": [
    "Range 의 일반적인 용도는 인덱스(index)로 시퀀스를 반복하는 것이다."
   ]
  },
  {
   "cell_type": "code",
   "execution_count": 1,
   "metadata": {
    "scrolled": true
   },
   "outputs": [
    {
     "data": {
      "text/plain": [
       "4"
      ]
     },
     "execution_count": 1,
     "metadata": {},
     "output_type": "execute_result"
    }
   ],
   "source": [
    "seq = [1,2,3,4]\n",
    "for i in range(len(seq)):\n",
    "    val = seq[i]\n",
    "\n",
    "val"
   ]
  },
  {
   "cell_type": "markdown",
   "metadata": {},
   "source": [
    "list와 같은 함수를 사용하여 range에 의해 생성된 모든 정수를 다른 데이터 구조에 저장할 수 있지만 기본 반복자가 원하는 것이 되는 경우가 많다."
   ]
  },
  {
   "cell_type": "code",
   "execution_count": 3,
   "metadata": {},
   "outputs": [
    {
     "name": "stdout",
     "output_type": "stream",
     "text": [
      "2333316668\n"
     ]
    }
   ],
   "source": [
    "sum = 0\n",
    "for i in range(100000):\n",
    "    # % is the module operator\n",
    "    if i % 3 == 0 or i % 5 == 0 :\n",
    "        sum += i\n",
    "\n",
    "print(sum)"
   ]
  },
  {
   "cell_type": "markdown",
   "metadata": {},
   "source": [
    "__Ternary expressions__\n",
    "\n",
    ": true-expr 및 false-expr은 모든 Python 표현식이 될 수 있다."
   ]
  },
  {
   "cell_type": "raw",
   "metadata": {},
   "source": [
    "value = true-expr if condition else false-expr\n",
    "\n",
    "if condition: \n",
    "    value = tru-expr\n",
    "else: \n",
    "    value = false-expr"
   ]
  },
  {
   "cell_type": "code",
   "execution_count": 42,
   "metadata": {},
   "outputs": [
    {
     "data": {
      "text/plain": [
       "'Non-negative'"
      ]
     },
     "execution_count": 42,
     "metadata": {},
     "output_type": "execute_result"
    }
   ],
   "source": [
    "x=5\n",
    "'Non-negative' if x >= 0 else 'Negative'"
   ]
  }
 ],
 "metadata": {
  "kernelspec": {
   "display_name": "Python 3",
   "language": "python",
   "name": "python3"
  },
  "language_info": {
   "codemirror_mode": {
    "name": "ipython",
    "version": 3
   },
   "file_extension": ".py",
   "mimetype": "text/x-python",
   "name": "python",
   "nbconvert_exporter": "python",
   "pygments_lexer": "ipython3",
   "version": "3.8.5"
  }
 },
 "nbformat": 4,
 "nbformat_minor": 4
}
